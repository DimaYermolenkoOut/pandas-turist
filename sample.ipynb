{
 "cells": [
  {
   "metadata": {},
   "cell_type": "markdown",
   "source": [
    "# This is a sample Jupyter Notebook\n",
    "\n",
    "Below is an example of a code cell. \n",
    "Put your cursor into the cell and press Shift+Enter to execute it and select the next one, or click !here goes the icon of the corresponding button in the gutter! button.\n",
    "To debug a cell, press Alt+Shift+Enter, or click !here goes the icon of the corresponding button in the gutter! button.\n",
    "\n",
    "Press Double Shift to search everywhere for classes, files, tool windows, actions, and settings.\n",
    "\n",
    "To learn more about Jupyter Notebooks in PyCharm, see [help](https://www.jetbrains.com/help/pycharm/jupyter-notebook-support.html).\n",
    "For an overview of PyCharm, go to Help -> Learn IDE features or refer to [our documentation](https://www.jetbrains.com/help/pycharm/getting-started.html)."
   ],
   "id": "8a77807f92f26ee"
  },
  {
   "metadata": {
    "ExecuteTime": {
     "end_time": "2024-05-23T14:25:00.658669Z",
     "start_time": "2024-05-23T14:25:00.655074Z"
    }
   },
   "cell_type": "code",
   "source": "",
   "id": "c22348d0c696648",
   "outputs": [],
   "execution_count": null
  },
  {
   "metadata": {
    "ExecuteTime": {
     "end_time": "2024-05-23T14:25:05.049598Z",
     "start_time": "2024-05-23T14:25:00.661199Z"
    }
   },
   "cell_type": "code",
   "source": [
    "\n",
    "!pip install pandas faker folium geopy\n",
    "\n",
    "# Import libraries and define helper functions\n",
    "import pandas as pd\n",
    "from faker import Faker\n",
    "import random\n",
    "import folium\n",
    "from geopy.distance import geodesic"
   ],
   "id": "16bdd9fd6487d1ba",
   "outputs": [
    {
     "name": "stdout",
     "output_type": "stream",
     "text": [
      "Requirement already satisfied: pandas in c:\\users\\dmitriy\\miniconda3\\lib\\site-packages (2.2.1)\n",
      "Requirement already satisfied: faker in c:\\users\\dmitriy\\miniconda3\\lib\\site-packages (25.2.0)\n",
      "Requirement already satisfied: folium in c:\\users\\dmitriy\\miniconda3\\lib\\site-packages (0.16.0)\n",
      "Requirement already satisfied: geopy in c:\\users\\dmitriy\\miniconda3\\lib\\site-packages (2.4.1)\n",
      "Requirement already satisfied: numpy<2,>=1.26.0 in c:\\users\\dmitriy\\miniconda3\\lib\\site-packages (from pandas) (1.26.4)\n",
      "Requirement already satisfied: python-dateutil>=2.8.2 in c:\\users\\dmitriy\\miniconda3\\lib\\site-packages (from pandas) (2.8.2)\n",
      "Requirement already satisfied: pytz>=2020.1 in c:\\users\\dmitriy\\miniconda3\\lib\\site-packages (from pandas) (2024.1)\n",
      "Requirement already satisfied: tzdata>=2022.7 in c:\\users\\dmitriy\\miniconda3\\lib\\site-packages (from pandas) (2023.3)\n",
      "Requirement already satisfied: branca>=0.6.0 in c:\\users\\dmitriy\\miniconda3\\lib\\site-packages (from folium) (0.7.2)\n",
      "Requirement already satisfied: jinja2>=2.9 in c:\\users\\dmitriy\\miniconda3\\lib\\site-packages (from folium) (3.1.3)\n",
      "Requirement already satisfied: requests in c:\\users\\dmitriy\\miniconda3\\lib\\site-packages (from folium) (2.31.0)\n",
      "Requirement already satisfied: xyzservices in c:\\users\\dmitriy\\miniconda3\\lib\\site-packages (from folium) (2024.4.0)\n",
      "Requirement already satisfied: geographiclib<3,>=1.52 in c:\\users\\dmitriy\\miniconda3\\lib\\site-packages (from geopy) (2.0)\n",
      "Requirement already satisfied: MarkupSafe>=2.0 in c:\\users\\dmitriy\\miniconda3\\lib\\site-packages (from jinja2>=2.9->folium) (2.1.3)\n",
      "Requirement already satisfied: six>=1.5 in c:\\users\\dmitriy\\miniconda3\\lib\\site-packages (from python-dateutil>=2.8.2->pandas) (1.16.0)\n",
      "Requirement already satisfied: charset-normalizer<4,>=2 in c:\\users\\dmitriy\\miniconda3\\lib\\site-packages (from requests->folium) (2.0.4)\n",
      "Requirement already satisfied: idna<4,>=2.5 in c:\\users\\dmitriy\\miniconda3\\lib\\site-packages (from requests->folium) (3.4)\n",
      "Requirement already satisfied: urllib3<3,>=1.21.1 in c:\\users\\dmitriy\\miniconda3\\lib\\site-packages (from requests->folium) (2.1.0)\n",
      "Requirement already satisfied: certifi>=2017.4.17 in c:\\users\\dmitriy\\miniconda3\\lib\\site-packages (from requests->folium) (2024.2.2)\n"
     ]
    }
   ],
   "execution_count": 1
  },
  {
   "metadata": {
    "ExecuteTime": {
     "end_time": "2024-05-23T14:25:05.137893Z",
     "start_time": "2024-05-23T14:25:05.051610Z"
    }
   },
   "cell_type": "code",
   "source": [
    "\n",
    "# Initialize Faker\n",
    "fake = Faker()"
   ],
   "id": "6f9baf3ecf408595",
   "outputs": [],
   "execution_count": 2
  },
  {
   "metadata": {
    "ExecuteTime": {
     "end_time": "2024-05-23T14:25:05.143358Z",
     "start_time": "2024-05-23T14:25:05.138906Z"
    }
   },
   "cell_type": "code",
   "source": [
    "\n",
    "# Helper function to generate European coordinates\n",
    "def generate_european_latitude():\n",
    "    return random.uniform(36.0, 71.0)  # Approximate latitudes for Europe"
   ],
   "id": "df216347462e619d",
   "outputs": [],
   "execution_count": 3
  },
  {
   "metadata": {
    "ExecuteTime": {
     "end_time": "2024-05-23T14:25:05.151482Z",
     "start_time": "2024-05-23T14:25:05.147377Z"
    }
   },
   "cell_type": "code",
   "source": [
    "\n",
    "def generate_european_longitude():\n",
    "    return random.uniform(-10.0, 40.0)  # Approximate longitudes for Europe"
   ],
   "id": "2158bcb70a119ef3",
   "outputs": [],
   "execution_count": 4
  },
  {
   "metadata": {
    "ExecuteTime": {
     "end_time": "2024-05-23T14:25:05.193265Z",
     "start_time": "2024-05-23T14:25:05.154502Z"
    }
   },
   "cell_type": "code",
   "source": [
    "\n",
    "# Generate first DataFrame with tourist information\n",
    "tourists = {\n",
    "    'name': [fake.name() for _ in range(100)],\n",
    "    'address': [fake.address() for _ in range(100)],\n",
    "    'latitude': [generate_european_latitude() for _ in range(100)],\n",
    "    'longitude': [generate_european_longitude() for _ in range(100)],\n",
    "    'age': [random.randint(18, 70) for _ in range(100)]\n",
    "}\n",
    "\n",
    "df_tourists = pd.DataFrame(tourists)"
   ],
   "id": "10c9c864c63eb169",
   "outputs": [],
   "execution_count": 5
  },
  {
   "metadata": {
    "ExecuteTime": {
     "end_time": "2024-05-23T14:25:05.297927Z",
     "start_time": "2024-05-23T14:25:05.196908Z"
    }
   },
   "cell_type": "code",
   "source": [
    "\n",
    "# Generate second DataFrame with visit records\n",
    "visit_records = {\n",
    "    'name': [random.choice(tourists['name']) for _ in range(1300)],\n",
    "    'visit_date': [fake.date_this_decade() for _ in range(1300)],\n",
    "    'latitude': [generate_european_latitude() for _ in range(1300)],\n",
    "    'longitude': [generate_european_longitude() for _ in range(1300)]\n",
    "}\n",
    "\n",
    "df_visits = pd.DataFrame(visit_records)"
   ],
   "id": "b29cf01b21043940",
   "outputs": [],
   "execution_count": 6
  },
  {
   "metadata": {
    "ExecuteTime": {
     "end_time": "2024-05-23T14:25:05.315984Z",
     "start_time": "2024-05-23T14:25:05.299932Z"
    }
   },
   "cell_type": "code",
   "source": [
    "\n",
    "# Display first few rows of each DataFrame\n",
    "df_tourists.head(), df_visits.head()"
   ],
   "id": "a870b33e3fc6bc81",
   "outputs": [
    {
     "data": {
      "text/plain": [
       "(              name                                            address  \\\n",
       " 0   Monica Houston              256 Pacheco Ridge\\nPaulside, KY 32968   \n",
       " 1  Carla Gutierrez                        USNS Peterson\\nFPO AE 01514   \n",
       " 2     Oscar Nelson           4312 Noah Isle\\nNew Ashleyview, VA 98756   \n",
       " 3  Brandon Johnson            9701 Robert Neck\\nWilsonmouth, GA 20461   \n",
       " 4   Kristine Gomez  302 Robert Cliff Suite 447\\nMichaeltown, KY 66342   \n",
       " \n",
       "     latitude  longitude  age  \n",
       " 0  53.196548  18.981428   36  \n",
       " 1  41.383834  10.212498   20  \n",
       " 2  51.672838  -5.150170   33  \n",
       " 3  58.659810  33.275866   64  \n",
       " 4  61.400891   3.190652   66  ,\n",
       "                name  visit_date   latitude  longitude\n",
       " 0  Veronica Ramirez  2023-09-16  52.923703   2.607813\n",
       " 1    Kathryn Wilson  2023-04-11  50.532361   9.447432\n",
       " 2      Oscar Nelson  2023-07-01  64.289417  18.748657\n",
       " 3     Tracy Sanchez  2024-01-13  44.814785  39.423465\n",
       " 4       Wendy White  2021-03-28  46.177807   9.781858)"
      ]
     },
     "execution_count": 7,
     "metadata": {},
     "output_type": "execute_result"
    }
   ],
   "execution_count": 7
  },
  {
   "metadata": {
    "ExecuteTime": {
     "end_time": "2024-05-23T14:25:05.335461Z",
     "start_time": "2024-05-23T14:25:05.317001Z"
    }
   },
   "cell_type": "code",
   "source": [
    "\n",
    "# Merge the DataFrames on the 'name' column\n",
    "df_merged = pd.merge(df_visits, df_tourists, on='name')\n",
    "df_merged.head()"
   ],
   "id": "fadca6b85b8ca658",
   "outputs": [
    {
     "data": {
      "text/plain": [
       "               name  visit_date  latitude_x  longitude_x  \\\n",
       "0  Veronica Ramirez  2023-09-16   52.923703     2.607813   \n",
       "1    Kathryn Wilson  2023-04-11   50.532361     9.447432   \n",
       "2      Oscar Nelson  2023-07-01   64.289417    18.748657   \n",
       "3     Tracy Sanchez  2024-01-13   44.814785    39.423465   \n",
       "4       Wendy White  2021-03-28   46.177807     9.781858   \n",
       "\n",
       "                                             address  latitude_y  longitude_y  \\\n",
       "0  0901 Chris Freeway Suite 059\\nDennishaven, SC ...   54.875612    17.149825   \n",
       "1                   PSC 1860, Box 1708\\nAPO AA 68481   41.691345    21.618747   \n",
       "2           4312 Noah Isle\\nNew Ashleyview, VA 98756   51.672838    -5.150170   \n",
       "3           0550 Timothy Alley\\nHayleyside, MN 01584   54.356961    -2.801758   \n",
       "4  5960 Sharon Vista Apt. 788\\nLake Laurenburgh, ...   59.701611     2.815184   \n",
       "\n",
       "   age  \n",
       "0   47  \n",
       "1   33  \n",
       "2   33  \n",
       "3   70  \n",
       "4   54  "
      ],
      "text/html": [
       "<div>\n",
       "<style scoped>\n",
       "    .dataframe tbody tr th:only-of-type {\n",
       "        vertical-align: middle;\n",
       "    }\n",
       "\n",
       "    .dataframe tbody tr th {\n",
       "        vertical-align: top;\n",
       "    }\n",
       "\n",
       "    .dataframe thead th {\n",
       "        text-align: right;\n",
       "    }\n",
       "</style>\n",
       "<table border=\"1\" class=\"dataframe\">\n",
       "  <thead>\n",
       "    <tr style=\"text-align: right;\">\n",
       "      <th></th>\n",
       "      <th>name</th>\n",
       "      <th>visit_date</th>\n",
       "      <th>latitude_x</th>\n",
       "      <th>longitude_x</th>\n",
       "      <th>address</th>\n",
       "      <th>latitude_y</th>\n",
       "      <th>longitude_y</th>\n",
       "      <th>age</th>\n",
       "    </tr>\n",
       "  </thead>\n",
       "  <tbody>\n",
       "    <tr>\n",
       "      <th>0</th>\n",
       "      <td>Veronica Ramirez</td>\n",
       "      <td>2023-09-16</td>\n",
       "      <td>52.923703</td>\n",
       "      <td>2.607813</td>\n",
       "      <td>0901 Chris Freeway Suite 059\\nDennishaven, SC ...</td>\n",
       "      <td>54.875612</td>\n",
       "      <td>17.149825</td>\n",
       "      <td>47</td>\n",
       "    </tr>\n",
       "    <tr>\n",
       "      <th>1</th>\n",
       "      <td>Kathryn Wilson</td>\n",
       "      <td>2023-04-11</td>\n",
       "      <td>50.532361</td>\n",
       "      <td>9.447432</td>\n",
       "      <td>PSC 1860, Box 1708\\nAPO AA 68481</td>\n",
       "      <td>41.691345</td>\n",
       "      <td>21.618747</td>\n",
       "      <td>33</td>\n",
       "    </tr>\n",
       "    <tr>\n",
       "      <th>2</th>\n",
       "      <td>Oscar Nelson</td>\n",
       "      <td>2023-07-01</td>\n",
       "      <td>64.289417</td>\n",
       "      <td>18.748657</td>\n",
       "      <td>4312 Noah Isle\\nNew Ashleyview, VA 98756</td>\n",
       "      <td>51.672838</td>\n",
       "      <td>-5.150170</td>\n",
       "      <td>33</td>\n",
       "    </tr>\n",
       "    <tr>\n",
       "      <th>3</th>\n",
       "      <td>Tracy Sanchez</td>\n",
       "      <td>2024-01-13</td>\n",
       "      <td>44.814785</td>\n",
       "      <td>39.423465</td>\n",
       "      <td>0550 Timothy Alley\\nHayleyside, MN 01584</td>\n",
       "      <td>54.356961</td>\n",
       "      <td>-2.801758</td>\n",
       "      <td>70</td>\n",
       "    </tr>\n",
       "    <tr>\n",
       "      <th>4</th>\n",
       "      <td>Wendy White</td>\n",
       "      <td>2021-03-28</td>\n",
       "      <td>46.177807</td>\n",
       "      <td>9.781858</td>\n",
       "      <td>5960 Sharon Vista Apt. 788\\nLake Laurenburgh, ...</td>\n",
       "      <td>59.701611</td>\n",
       "      <td>2.815184</td>\n",
       "      <td>54</td>\n",
       "    </tr>\n",
       "  </tbody>\n",
       "</table>\n",
       "</div>"
      ]
     },
     "execution_count": 8,
     "metadata": {},
     "output_type": "execute_result"
    }
   ],
   "execution_count": 8
  },
  {
   "metadata": {
    "ExecuteTime": {
     "end_time": "2024-05-23T14:25:05.342648Z",
     "start_time": "2024-05-23T14:25:05.337476Z"
    }
   },
   "cell_type": "code",
   "source": [
    "\n",
    "# Calculate the average age of the tourists\n",
    "average_age = df_merged['age'].mean()\n",
    "print(f\"Average age of tourists: {average_age:.2f}\")"
   ],
   "id": "b724011df23896ba",
   "outputs": [
    {
     "name": "stdout",
     "output_type": "stream",
     "text": [
      "Average age of tourists: 44.01\n"
     ]
    }
   ],
   "execution_count": 9
  },
  {
   "metadata": {
    "ExecuteTime": {
     "end_time": "2024-05-23T14:25:05.351509Z",
     "start_time": "2024-05-23T14:25:05.344185Z"
    }
   },
   "cell_type": "code",
   "source": [
    "\n",
    "# Helper function to check if two points are within 50 km radius\n",
    "def is_within_radius(lat1, lon1, lat2, lon2, radius_km=50):\n",
    "    return geodesic((lat1, lon1), (lat2, lon2)).km <= radius_km"
   ],
   "id": "a00da3f31e9bfc20",
   "outputs": [],
   "execution_count": 10
  },
  {
   "metadata": {
    "ExecuteTime": {
     "end_time": "2024-05-23T14:26:28.113603Z",
     "start_time": "2024-05-23T14:25:05.353266Z"
    }
   },
   "cell_type": "code",
   "source": [
    "\n",
    "# Group locations within a 50 km radius\n",
    "location_counts = []\n",
    "visited_locations = []\n",
    "\n",
    "for idx, row in df_merged.iterrows():\n",
    "    lat, lon = row['latitude_x'], row['longitude_x']\n",
    "    found = False\n",
    "    for loc in visited_locations:\n",
    "        if is_within_radius(lat, lon, loc['latitude'], loc['longitude']):\n",
    "            loc['count'] += 1\n",
    "            found = True\n",
    "            break\n",
    "    if not found:\n",
    "        visited_locations.append({'latitude': lat, 'longitude': lon, 'count': 1})\n",
    "\n",
    "most_common_locations = sorted(visited_locations, key=lambda x: x['count'], reverse=True)[:5]\n",
    "print(\"Top 5 most visited locations (grouped within 50 km radius):\")\n",
    "for loc in most_common_locations:\n",
    "    print(f\"Latitude: {loc['latitude']}, Longitude: {loc['longitude']}, Visits: {loc['count']}\")"
   ],
   "id": "b141f3540afc915b",
   "outputs": [
    {
     "name": "stdout",
     "output_type": "stream",
     "text": [
      "Top 5 most visited locations (grouped within 50 km radius):\n",
      "Latitude: 52.92370325797059, Longitude: 2.6078132280692365, Visits: 5\n",
      "Latitude: 59.06349164434478, Longitude: 34.89659435908291, Visits: 5\n",
      "Latitude: 69.25465365316785, Longitude: 8.82505609283583, Visits: 5\n",
      "Latitude: 69.93416402816317, Longitude: -5.086174956774455, Visits: 5\n",
      "Latitude: 66.89431946733748, Longitude: 36.0435045574698, Visits: 4\n"
     ]
    }
   ],
   "execution_count": 11
  },
  {
   "metadata": {
    "ExecuteTime": {
     "end_time": "2024-05-23T14:26:28.126206Z",
     "start_time": "2024-05-23T14:26:28.115355Z"
    }
   },
   "cell_type": "code",
   "source": [
    "\n",
    "# Create a map centered around the average coordinates\n",
    "m = folium.Map(location=[df_merged['latitude_x'].mean(), df_merged['longitude_x'].mean()], zoom_start=4)"
   ],
   "id": "f859d6fdd4e08d8",
   "outputs": [],
   "execution_count": 12
  },
  {
   "metadata": {
    "ExecuteTime": {
     "end_time": "2024-05-23T14:26:28.136141Z",
     "start_time": "2024-05-23T14:26:28.130242Z"
    }
   },
   "cell_type": "code",
   "source": [
    "\n",
    "# Add markers for the top 5 most visited locations\n",
    "for loc in most_common_locations:\n",
    "    folium.Marker(\n",
    "        location=[loc['latitude'], loc['longitude']],\n",
    "        popup=f\"Visits: {loc['count']}\"\n",
    "    ).add_to(m)"
   ],
   "id": "d14a8b286d37a80f",
   "outputs": [],
   "execution_count": 13
  },
  {
   "metadata": {
    "ExecuteTime": {
     "end_time": "2024-05-23T14:26:28.168168Z",
     "start_time": "2024-05-23T14:26:28.139170Z"
    }
   },
   "cell_type": "code",
   "source": [
    "\n",
    "# Save map to an HTML file\n",
    "m.save('most_visited_locations.html')\n",
    "m\n"
   ],
   "id": "fbc121e30a2defb3",
   "outputs": [
    {
     "data": {
      "text/plain": [
       "<folium.folium.Map at 0x1d3e0dfdf70>"
      ],
      "text/html": [
       "<div style=\"width:100%;\"><div style=\"position:relative;width:100%;height:0;padding-bottom:60%;\"><span style=\"color:#565656\">Make this Notebook Trusted to load map: File -> Trust Notebook</span><iframe srcdoc=\"&lt;!DOCTYPE html&gt;\n",
       "&lt;html&gt;\n",
       "&lt;head&gt;\n",
       "    \n",
       "    &lt;meta http-equiv=&quot;content-type&quot; content=&quot;text/html; charset=UTF-8&quot; /&gt;\n",
       "    \n",
       "        &lt;script&gt;\n",
       "            L_NO_TOUCH = false;\n",
       "            L_DISABLE_3D = false;\n",
       "        &lt;/script&gt;\n",
       "    \n",
       "    &lt;style&gt;html, body {width: 100%;height: 100%;margin: 0;padding: 0;}&lt;/style&gt;\n",
       "    &lt;style&gt;#map {position:absolute;top:0;bottom:0;right:0;left:0;}&lt;/style&gt;\n",
       "    &lt;script src=&quot;https://cdn.jsdelivr.net/npm/leaflet@1.9.3/dist/leaflet.js&quot;&gt;&lt;/script&gt;\n",
       "    &lt;script src=&quot;https://code.jquery.com/jquery-3.7.1.min.js&quot;&gt;&lt;/script&gt;\n",
       "    &lt;script src=&quot;https://cdn.jsdelivr.net/npm/bootstrap@5.2.2/dist/js/bootstrap.bundle.min.js&quot;&gt;&lt;/script&gt;\n",
       "    &lt;script src=&quot;https://cdnjs.cloudflare.com/ajax/libs/Leaflet.awesome-markers/2.0.2/leaflet.awesome-markers.js&quot;&gt;&lt;/script&gt;\n",
       "    &lt;link rel=&quot;stylesheet&quot; href=&quot;https://cdn.jsdelivr.net/npm/leaflet@1.9.3/dist/leaflet.css&quot;/&gt;\n",
       "    &lt;link rel=&quot;stylesheet&quot; href=&quot;https://cdn.jsdelivr.net/npm/bootstrap@5.2.2/dist/css/bootstrap.min.css&quot;/&gt;\n",
       "    &lt;link rel=&quot;stylesheet&quot; href=&quot;https://netdna.bootstrapcdn.com/bootstrap/3.0.0/css/bootstrap.min.css&quot;/&gt;\n",
       "    &lt;link rel=&quot;stylesheet&quot; href=&quot;https://cdn.jsdelivr.net/npm/@fortawesome/fontawesome-free@6.2.0/css/all.min.css&quot;/&gt;\n",
       "    &lt;link rel=&quot;stylesheet&quot; href=&quot;https://cdnjs.cloudflare.com/ajax/libs/Leaflet.awesome-markers/2.0.2/leaflet.awesome-markers.css&quot;/&gt;\n",
       "    &lt;link rel=&quot;stylesheet&quot; href=&quot;https://cdn.jsdelivr.net/gh/python-visualization/folium/folium/templates/leaflet.awesome.rotate.min.css&quot;/&gt;\n",
       "    \n",
       "            &lt;meta name=&quot;viewport&quot; content=&quot;width=device-width,\n",
       "                initial-scale=1.0, maximum-scale=1.0, user-scalable=no&quot; /&gt;\n",
       "            &lt;style&gt;\n",
       "                #map_f3da12f53124eea262f252f6e3c8ce92 {\n",
       "                    position: relative;\n",
       "                    width: 100.0%;\n",
       "                    height: 100.0%;\n",
       "                    left: 0.0%;\n",
       "                    top: 0.0%;\n",
       "                }\n",
       "                .leaflet-container { font-size: 1rem; }\n",
       "            &lt;/style&gt;\n",
       "        \n",
       "&lt;/head&gt;\n",
       "&lt;body&gt;\n",
       "    \n",
       "    \n",
       "            &lt;div class=&quot;folium-map&quot; id=&quot;map_f3da12f53124eea262f252f6e3c8ce92&quot; &gt;&lt;/div&gt;\n",
       "        \n",
       "&lt;/body&gt;\n",
       "&lt;script&gt;\n",
       "    \n",
       "    \n",
       "            var map_f3da12f53124eea262f252f6e3c8ce92 = L.map(\n",
       "                &quot;map_f3da12f53124eea262f252f6e3c8ce92&quot;,\n",
       "                {\n",
       "                    center: [53.546760801853516, 15.024232632739695],\n",
       "                    crs: L.CRS.EPSG3857,\n",
       "                    zoom: 4,\n",
       "                    zoomControl: true,\n",
       "                    preferCanvas: false,\n",
       "                }\n",
       "            );\n",
       "\n",
       "            \n",
       "\n",
       "        \n",
       "    \n",
       "            var tile_layer_45b27e5de760f5006673946565208cbc = L.tileLayer(\n",
       "                &quot;https://tile.openstreetmap.org/{z}/{x}/{y}.png&quot;,\n",
       "                {&quot;attribution&quot;: &quot;\\u0026copy; \\u003ca href=\\&quot;https://www.openstreetmap.org/copyright\\&quot;\\u003eOpenStreetMap\\u003c/a\\u003e contributors&quot;, &quot;detectRetina&quot;: false, &quot;maxNativeZoom&quot;: 19, &quot;maxZoom&quot;: 19, &quot;minZoom&quot;: 0, &quot;noWrap&quot;: false, &quot;opacity&quot;: 1, &quot;subdomains&quot;: &quot;abc&quot;, &quot;tms&quot;: false}\n",
       "            );\n",
       "        \n",
       "    \n",
       "            tile_layer_45b27e5de760f5006673946565208cbc.addTo(map_f3da12f53124eea262f252f6e3c8ce92);\n",
       "        \n",
       "    \n",
       "            var marker_f9cc3a9c57193696f26ad0ef59b5df70 = L.marker(\n",
       "                [52.92370325797059, 2.6078132280692365],\n",
       "                {}\n",
       "            ).addTo(map_f3da12f53124eea262f252f6e3c8ce92);\n",
       "        \n",
       "    \n",
       "        var popup_fd2fe1232561fea94ac7af96735a7c15 = L.popup({&quot;maxWidth&quot;: &quot;100%&quot;});\n",
       "\n",
       "        \n",
       "            \n",
       "                var html_1656b0a91cf6e1378f4b26908cd0e358 = $(`&lt;div id=&quot;html_1656b0a91cf6e1378f4b26908cd0e358&quot; style=&quot;width: 100.0%; height: 100.0%;&quot;&gt;Visits: 5&lt;/div&gt;`)[0];\n",
       "                popup_fd2fe1232561fea94ac7af96735a7c15.setContent(html_1656b0a91cf6e1378f4b26908cd0e358);\n",
       "            \n",
       "        \n",
       "\n",
       "        marker_f9cc3a9c57193696f26ad0ef59b5df70.bindPopup(popup_fd2fe1232561fea94ac7af96735a7c15)\n",
       "        ;\n",
       "\n",
       "        \n",
       "    \n",
       "    \n",
       "            var marker_9bcf39766edfd65df072705b24a5abf5 = L.marker(\n",
       "                [59.06349164434478, 34.89659435908291],\n",
       "                {}\n",
       "            ).addTo(map_f3da12f53124eea262f252f6e3c8ce92);\n",
       "        \n",
       "    \n",
       "        var popup_0958cfb0c39e8a3e04575174fc9467a1 = L.popup({&quot;maxWidth&quot;: &quot;100%&quot;});\n",
       "\n",
       "        \n",
       "            \n",
       "                var html_fc563219790ded6665f70bdc67840fc7 = $(`&lt;div id=&quot;html_fc563219790ded6665f70bdc67840fc7&quot; style=&quot;width: 100.0%; height: 100.0%;&quot;&gt;Visits: 5&lt;/div&gt;`)[0];\n",
       "                popup_0958cfb0c39e8a3e04575174fc9467a1.setContent(html_fc563219790ded6665f70bdc67840fc7);\n",
       "            \n",
       "        \n",
       "\n",
       "        marker_9bcf39766edfd65df072705b24a5abf5.bindPopup(popup_0958cfb0c39e8a3e04575174fc9467a1)\n",
       "        ;\n",
       "\n",
       "        \n",
       "    \n",
       "    \n",
       "            var marker_b65f999a6c7278d7ccaec5107ee58fb2 = L.marker(\n",
       "                [69.25465365316785, 8.82505609283583],\n",
       "                {}\n",
       "            ).addTo(map_f3da12f53124eea262f252f6e3c8ce92);\n",
       "        \n",
       "    \n",
       "        var popup_4078974aed775fa69fe73e6af0ec7294 = L.popup({&quot;maxWidth&quot;: &quot;100%&quot;});\n",
       "\n",
       "        \n",
       "            \n",
       "                var html_4102a09db5ebf41750187b4f2a7389d8 = $(`&lt;div id=&quot;html_4102a09db5ebf41750187b4f2a7389d8&quot; style=&quot;width: 100.0%; height: 100.0%;&quot;&gt;Visits: 5&lt;/div&gt;`)[0];\n",
       "                popup_4078974aed775fa69fe73e6af0ec7294.setContent(html_4102a09db5ebf41750187b4f2a7389d8);\n",
       "            \n",
       "        \n",
       "\n",
       "        marker_b65f999a6c7278d7ccaec5107ee58fb2.bindPopup(popup_4078974aed775fa69fe73e6af0ec7294)\n",
       "        ;\n",
       "\n",
       "        \n",
       "    \n",
       "    \n",
       "            var marker_c6001c11f9829ee578706fd1ddc1dbe8 = L.marker(\n",
       "                [69.93416402816317, -5.086174956774455],\n",
       "                {}\n",
       "            ).addTo(map_f3da12f53124eea262f252f6e3c8ce92);\n",
       "        \n",
       "    \n",
       "        var popup_4032503baf5ef489b6aca3c1b3f3db5c = L.popup({&quot;maxWidth&quot;: &quot;100%&quot;});\n",
       "\n",
       "        \n",
       "            \n",
       "                var html_e424395a25971733604fac387950d7c3 = $(`&lt;div id=&quot;html_e424395a25971733604fac387950d7c3&quot; style=&quot;width: 100.0%; height: 100.0%;&quot;&gt;Visits: 5&lt;/div&gt;`)[0];\n",
       "                popup_4032503baf5ef489b6aca3c1b3f3db5c.setContent(html_e424395a25971733604fac387950d7c3);\n",
       "            \n",
       "        \n",
       "\n",
       "        marker_c6001c11f9829ee578706fd1ddc1dbe8.bindPopup(popup_4032503baf5ef489b6aca3c1b3f3db5c)\n",
       "        ;\n",
       "\n",
       "        \n",
       "    \n",
       "    \n",
       "            var marker_934d06a7c31fec190d8fbbc04671c59a = L.marker(\n",
       "                [66.89431946733748, 36.0435045574698],\n",
       "                {}\n",
       "            ).addTo(map_f3da12f53124eea262f252f6e3c8ce92);\n",
       "        \n",
       "    \n",
       "        var popup_787f45ad642c36abf36d26f323bc15be = L.popup({&quot;maxWidth&quot;: &quot;100%&quot;});\n",
       "\n",
       "        \n",
       "            \n",
       "                var html_d8f5e857d710bc84905a2f3b9069e002 = $(`&lt;div id=&quot;html_d8f5e857d710bc84905a2f3b9069e002&quot; style=&quot;width: 100.0%; height: 100.0%;&quot;&gt;Visits: 4&lt;/div&gt;`)[0];\n",
       "                popup_787f45ad642c36abf36d26f323bc15be.setContent(html_d8f5e857d710bc84905a2f3b9069e002);\n",
       "            \n",
       "        \n",
       "\n",
       "        marker_934d06a7c31fec190d8fbbc04671c59a.bindPopup(popup_787f45ad642c36abf36d26f323bc15be)\n",
       "        ;\n",
       "\n",
       "        \n",
       "    \n",
       "    \n",
       "            tile_layer_45b27e5de760f5006673946565208cbc.addTo(map_f3da12f53124eea262f252f6e3c8ce92);\n",
       "        \n",
       "&lt;/script&gt;\n",
       "&lt;/html&gt;\" style=\"position:absolute;width:100%;height:100%;left:0;top:0;border:none !important;\" allowfullscreen webkitallowfullscreen mozallowfullscreen></iframe></div></div>"
      ]
     },
     "execution_count": 14,
     "metadata": {},
     "output_type": "execute_result"
    }
   ],
   "execution_count": 14
  }
 ],
 "metadata": {
  "kernelspec": {
   "display_name": "Python 3",
   "language": "python",
   "name": "python3"
  },
  "language_info": {
   "codemirror_mode": {
    "name": "ipython",
    "version": 2
   },
   "file_extension": ".py",
   "mimetype": "text/x-python",
   "name": "python",
   "nbconvert_exporter": "python",
   "pygments_lexer": "ipython2",
   "version": "2.7.6"
  }
 },
 "nbformat": 4,
 "nbformat_minor": 5
}
